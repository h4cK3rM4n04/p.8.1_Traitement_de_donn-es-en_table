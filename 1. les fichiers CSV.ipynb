{
 "cells": [
  {
   "cell_type": "markdown",
   "metadata": {},
   "source": [
    "<div class = \"alert alert-warning\" align=\"center\"> \n",
    "    <img src=\"https://www.egd.mg/wp-content/uploads/2020/01/cropped-logo-home-110px.png\" align=\"left\" width=\"290\"  margin=\"50px\"> \n",
    "    <center><h1>Lycée français de Tananarive</h1> \n",
    "        <h2> Jupyter Hub,  Spécialité NSI </h2></center>\n",
    "</div>"
   ]
  },
  {
   "cell_type": "markdown",
   "metadata": {
    "deletable": false,
    "editable": false,
    "nbgrader": {
     "cell_type": "markdown",
     "checksum": "f6bfcf631edca6e0336b4fddee610bb6",
     "grade": false,
     "grade_id": "cell-613e8f639e489e8c",
     "locked": true,
     "schema_version": 3,
     "solution": false
    }
   },
   "source": [
    "# Traitement de données en table\n",
    "## 1. Position du problème : Le code Postal\n",
    "<img src=\"laposte.png\" style=\"float: right; margin-left: 10px;\"  height=\"50%\" width=\"50%\"/>\n",
    "Sur le site de la poste un formulaire permet de trouver le code postal de n'importe quelle commune. Nous allons à partir du fichier CSV utilisé par ce site d'essayer d'en faire de même avec un programme écrit en Python qui pourra nous donner différentes informations quant aux communes françaises.\n",
    "\n",
    "le travail à réaliser se fera en plusieurs étapes :\n",
    "- Etudier et nettoyer le fichier csv `code.csv`\n",
    "- Charger ce fichier en tant que table de données\n",
    "- Opérer différentes opérations sur cette table.\n",
    "- Positionner sur une carte les différentes communes d'un département."
   ]
  },
  {
   "cell_type": "markdown",
   "metadata": {
    "deletable": false,
    "editable": false,
    "nbgrader": {
     "cell_type": "markdown",
     "checksum": "942da715f316cf682a289512551100c1",
     "grade": false,
     "grade_id": "cell-13065ad4a29f3e2b",
     "locked": true,
     "schema_version": 3,
     "solution": false
    }
   },
   "source": [
    "## 2 Etude et nettoyage du fichier CSV.\n",
    "### 2.1 Etude du fichier CSV.\n",
    "Ouvrir le fichier CSV et répondre dans la cellule ci-dessous aux questions suivantes :\n",
    "1. Quels sont les attributs des éléments de ce fichiers ?\n",
    "2. Combien ce fichier comporte-t-il d'éléments ?\n",
    "3. Quels sont les éléments de type `float` que contient ce fichier ?\n",
    "4. Comment s'appelle l'attribut dont dont les valeurs sont vides pour tous les enregistrements de la table ?\n",
    "5. Quel séparateur est utilisé dans cette table ?"
   ]
  },
  {
   "cell_type": "markdown",
   "metadata": {
    "deletable": false,
    "nbgrader": {
     "cell_type": "markdown",
     "checksum": "e108a5fa620f8916171d74a719231909",
     "grade": true,
     "grade_id": "cell-48dc6398cfb19d42",
     "locked": false,
     "points": 3,
     "schema_version": 3,
     "solution": true
    }
   },
   "source": [
    "YOUR ANSWER HERE"
   ]
  },
  {
   "cell_type": "markdown",
   "metadata": {
    "deletable": false,
    "editable": false,
    "nbgrader": {
     "cell_type": "markdown",
     "checksum": "d52edab0d5d905dc7ee23fd8dd7ab247",
     "grade": false,
     "grade_id": "cell-793440ff67520829",
     "locked": true,
     "schema_version": 3,
     "solution": false
    }
   },
   "source": [
    "### 2.2 Création de la table de données \n",
    "**En vous appuyant sur vos connaissances de cours créez une table de données nommée `commune`composée de dictionnaires pour chacun des enregistrements, où chaque clef représente un attribut de la table**\n",
    "\n",
    "Dans un premier temps on se contentera de créer la table, sans se précocuper du typage des attributs."
   ]
  },
  {
   "cell_type": "code",
   "execution_count": 25,
   "metadata": {
    "deletable": false,
    "nbgrader": {
     "cell_type": "code",
     "checksum": "d108ec28381dcad9f49a3d26612c73e1",
     "grade": false,
     "grade_id": "cell-50442041493d37f6",
     "locked": false,
     "schema_version": 3,
     "solution": true
    }
   },
   "outputs": [],
   "source": [
    "import csv\n",
    "fichier = open('codes.csv')\n",
    "commune = list(csv.DictReader(fichier, delimiter = \";\"))"
   ]
  },
  {
   "cell_type": "code",
   "execution_count": 26,
   "metadata": {
    "deletable": false,
    "editable": false,
    "nbgrader": {
     "cell_type": "code",
     "checksum": "2d15de623f5d349e0193497561035352",
     "grade": true,
     "grade_id": "cell-29d0019b0f8aa5bd",
     "locked": true,
     "points": 1,
     "schema_version": 3,
     "solution": false
    }
   },
   "outputs": [],
   "source": [
    "assert commune[14]['Code_commune_INSEE'] == '91137'\n",
    "assert commune[5214]['Nom_commune'] == 'ANTIBES'\n",
    "assert commune[8762]['Code_postal'] == '32130'\n",
    "assert commune[7540]['Ligne_5'] == ''\n",
    "assert commune[25]['coordonnees_gps'] == '48.368305642, 2.07601234971'"
   ]
  },
  {
   "cell_type": "markdown",
   "metadata": {
    "deletable": false,
    "editable": false,
    "nbgrader": {
     "cell_type": "markdown",
     "checksum": "8857e086b92aed4960ba4cdd2e626f70",
     "grade": false,
     "grade_id": "cell-4bfddcfd9d8d8a00",
     "locked": true,
     "schema_version": 3,
     "solution": false
    }
   },
   "source": [
    "### 2.3 Validation de la table.\n",
    "**Chaque élément de la table contient un attribut nommé `Ligne_5` qui est vide pour tous les enregistrements, écrire un script duplique la table `commune` en créant une nouvelle table `commune_valide` identique à la première mais en supprimant cette clef inutile dans tous les enregistrements.**\n",
    "\n",
    "On pourra éventuellement utiliser la commande qui permet de supprimer une clef dans un dictionnaire est `del dict[clef]`, mais ce n'est pas obligatoire."
   ]
  },
  {
   "cell_type": "code",
   "execution_count": 27,
   "metadata": {
    "deletable": false,
    "nbgrader": {
     "cell_type": "code",
     "checksum": "1b64e3e811cab1f6a3e8797c44013ccb",
     "grade": false,
     "grade_id": "cell-4cdfbbb64683b305",
     "locked": false,
     "schema_version": 3,
     "solution": true
    }
   },
   "outputs": [],
   "source": [
    "import csv\n",
    "fichier = open('commune_valide.csv')\n",
    "commune = list(csv.DictReader(fichier, delimiter = \";\"))\n",
    "for i in commune:\n",
    "    del i['Ligne_5']\n",
    "commune_valide = commune"
   ]
  },
  {
   "cell_type": "code",
   "execution_count": 28,
   "metadata": {
    "deletable": false,
    "editable": false,
    "nbgrader": {
     "cell_type": "code",
     "checksum": "244d213a321cc29d875bf75ea3d6f005",
     "grade": true,
     "grade_id": "cell-e4864cf229a94261",
     "locked": true,
     "points": 2,
     "schema_version": 3,
     "solution": false
    }
   },
   "outputs": [],
   "source": [
    "assert commune_valide[14]['Code_commune_INSEE'] == '91137'\n",
    "assert commune_valide[5214]['Nom_commune'] == 'ANTIBES'\n",
    "assert commune_valide[8762]['Code_postal'] == '32130'\n",
    "assert len(commune_valide[18]) == 5\n",
    "assert len(commune_valide) == 39201"
   ]
  },
  {
   "cell_type": "markdown",
   "metadata": {
    "deletable": false,
    "editable": false,
    "nbgrader": {
     "cell_type": "markdown",
     "checksum": "97cd0a9392880ea23c539d381fffe801",
     "grade": false,
     "grade_id": "cell-1d309304951fbfec",
     "locked": true,
     "schema_version": 3,
     "solution": false
    }
   },
   "source": [
    "## 3. Recherche dans la table.\n",
    "### 3.1 Interrogation de la table.\n",
    "**Ecrire un fonction `code_postal(nom_commune)` qui renvoie le code postal, sous forme d'une chaine de caractéres, d'une commune dont le nom est passé en paramètre. La fonction doit retournée `None` si le nom de la commune n'est pas dans la liste**"
   ]
  },
  {
   "cell_type": "code",
   "execution_count": 29,
   "metadata": {
    "deletable": false,
    "nbgrader": {
     "cell_type": "code",
     "checksum": "31a24cbbc9d13529322af3d22d6d04d4",
     "grade": false,
     "grade_id": "cell-1ec54eea465954c8",
     "locked": false,
     "schema_version": 3,
     "solution": true
    }
   },
   "outputs": [],
   "source": [
    "def code_postal(nom_commune):\n",
    "    return next((i['Code_postal'] for i in csv.DictReader(open('commune_valide.csv'), delimiter = \";\") if i['Nom_commune'] == nom_commune), None)"
   ]
  },
  {
   "cell_type": "code",
   "execution_count": 30,
   "metadata": {
    "deletable": false,
    "editable": false,
    "nbgrader": {
     "cell_type": "code",
     "checksum": "4b3b3d42dba138316f8c70419294e58f",
     "grade": true,
     "grade_id": "cell-e87314a6fbc0ff06",
     "locked": true,
     "points": 2,
     "schema_version": 3,
     "solution": false
    }
   },
   "outputs": [],
   "source": [
    "assert code_postal('TOULOUSE') == '31000'\n",
    "assert code_postal('MURET') == '31600'\n",
    "assert code_postal('LE TAMPON') == '97418'\n",
    "assert code_postal('TANANARIVE') == None"
   ]
  },
  {
   "cell_type": "markdown",
   "metadata": {
    "deletable": false,
    "editable": false,
    "nbgrader": {
     "cell_type": "markdown",
     "checksum": "1769b0737a162de08c22e2c113160f8a",
     "grade": false,
     "grade_id": "cell-e2a6583156093dca",
     "locked": true,
     "schema_version": 3,
     "solution": false
    }
   },
   "source": [
    "### 3.2 recherche d'éléments\n",
    "**Ecrire une fonction `ville(code_postal)` qui renvoie une liste dont les éléments sont le nom des communes qui ont comme attribut le code postal passé en paramètre**"
   ]
  },
  {
   "cell_type": "code",
   "execution_count": 31,
   "metadata": {
    "deletable": false,
    "nbgrader": {
     "cell_type": "code",
     "checksum": "53afdf2e2ecc60f70c96ca482fde24c6",
     "grade": false,
     "grade_id": "cell-bce7703f180e7169",
     "locked": false,
     "schema_version": 3,
     "solution": true
    }
   },
   "outputs": [],
   "source": [
    "def ville(code_postal):\n",
    "    return [i['Nom_commune'] for i in list(csv.DictReader(open('commune_valide.csv'), delimiter = \";\")) if i['Code_postal'] == code_postal]"
   ]
  },
  {
   "cell_type": "code",
   "execution_count": 32,
   "metadata": {
    "deletable": false,
    "editable": false,
    "nbgrader": {
     "cell_type": "code",
     "checksum": "24c666adff2d9b1a63a83d72f382f0fe",
     "grade": true,
     "grade_id": "cell-f3f35d56e854df90",
     "locked": true,
     "points": 2,
     "schema_version": 3,
     "solution": false
    },
    "scrolled": true
   },
   "outputs": [],
   "source": [
    "assert ville('24000') == ['PERIGUEUX']\n",
    "assert ville('31430') == ['MONTOUSSIN','CASTIES LABRANDE','LUSSAN ADEILHAC','SENARENS','MARIGNAC LASCLARES','MONTEGUT BOURJAC','POUY DE TOUGES','ST ARAILLE','LE FOUSSERET','POLASTRON','ST ELIX LE CHATEAU','CASTELNAU PICAMPEAU','FUSTIGNAC','GRATENS']\n",
    "assert ville('75001') == ['PARIS 01']"
   ]
  },
  {
   "cell_type": "markdown",
   "metadata": {
    "deletable": false,
    "editable": false,
    "nbgrader": {
     "cell_type": "markdown",
     "checksum": "ae76300834a428634a4b6a09add12789",
     "grade": false,
     "grade_id": "cell-a0caf56d6bb3b62e",
     "locked": true,
     "schema_version": 3,
     "solution": false
    }
   },
   "source": [
    "### 3.3 Projection de tables.\n",
    "**Ecrire un fonction qui renvoie une version simplifiée de la table `commune_valide`. Les éléments de cette table ne doivent contenir que deux attributs : `Nom_commune` et `Code_postal`**.\n"
   ]
  },
  {
   "cell_type": "code",
   "execution_count": 35,
   "metadata": {
    "deletable": false,
    "nbgrader": {
     "cell_type": "code",
     "checksum": "e9767ef5f1400b323381e6ded34c77b0",
     "grade": false,
     "grade_id": "cell-ee9e17628d3e942e",
     "locked": false,
     "schema_version": 3,
     "solution": true
    }
   },
   "outputs": [],
   "source": [
    "def table_simplifiee(table):\n",
    "    return [{\"Nom_commune\": d[\"Nom_commune\"], \"Code_postal\": d[\"Code_postal\"]} for d in table]"
   ]
  },
  {
   "cell_type": "code",
   "execution_count": 36,
   "metadata": {
    "deletable": false,
    "editable": false,
    "nbgrader": {
     "cell_type": "code",
     "checksum": "d6b78b6deadef79d193dba22a6f66c1e",
     "grade": true,
     "grade_id": "cell-0c7d95e0c3216046",
     "locked": true,
     "points": 1,
     "schema_version": 3,
     "solution": false
    }
   },
   "outputs": [],
   "source": [
    "assert table_simplifiee(commune_valide)[2]['Nom_commune'] == 'ST GERMAIN LE CHATELET'\n",
    "assert table_simplifiee(commune_valide)[1475]['Code_postal'] == '89340'\n",
    "assert len(table_simplifiee(commune_valide)[4475]) == 2\n",
    "assert len(table_simplifiee(commune_valide)) == 39201"
   ]
  },
  {
   "cell_type": "markdown",
   "metadata": {},
   "source": [
    "### 3.4 Agrégation de tables\n",
    "En France les deux premiers chiffres du `Code_commune_INSEE` correspondent au numéro du département. Par exemple, 'GRATENS' a pour code commune INSEE 31430, cette commune se trouve donc dans le département 31, la haute garonne.\n",
    "\n",
    "**Ecrire une fonction `nbre_commune(dpt,table)`, qui renvoie le nombre de commune dans le département passé en paramètre**\n",
    "\n",
    "- Données : \n",
    "    - `dpt` : Chaîne de caractères composée de 2 caractères\n",
    "    - `table` Liste de dictionnaires (table `commune_valide` par exemple)\n",
    "- Retourne :\n",
    "    - Un entier qui reprèsente le nombre de commune dans le département."
   ]
  },
  {
   "cell_type": "code",
   "execution_count": 49,
   "metadata": {
    "deletable": false,
    "nbgrader": {
     "cell_type": "code",
     "checksum": "8c4983c036a0e0585aa3f72f22977779",
     "grade": false,
     "grade_id": "cell-e067126430397224",
     "locked": false,
     "schema_version": 3,
     "solution": true
    }
   },
   "outputs": [],
   "source": [
    "def nbre_commune(dpt, table):\n",
    "    return sum(1 for i in table if i['Code_commune_INSEE'][:2] == dpt)"
   ]
  },
  {
   "cell_type": "code",
   "execution_count": 50,
   "metadata": {
    "deletable": false,
    "editable": false,
    "nbgrader": {
     "cell_type": "code",
     "checksum": "3408a7a31e9854b22d3bccbb811b2b0f",
     "grade": true,
     "grade_id": "cell-a3c32b66bac11551",
     "locked": true,
     "points": 0,
     "schema_version": 3,
     "solution": false
    }
   },
   "outputs": [],
   "source": [
    "assert nbre_commune('31',commune_valide) == 600\n",
    "assert nbre_commune('2A',commune_valide) == 136\n",
    "assert nbre_commune('97',commune_valide) == 214"
   ]
  }
 ],
 "metadata": {
  "kernelspec": {
   "display_name": "Python 3",
   "language": "python",
   "name": "python3"
  },
  "language_info": {
   "codemirror_mode": {
    "name": "ipython",
    "version": 3
   },
   "file_extension": ".py",
   "mimetype": "text/x-python",
   "name": "python",
   "nbconvert_exporter": "python",
   "pygments_lexer": "ipython3",
   "version": "3.6.9"
  },
  "latex_envs": {
   "LaTeX_envs_menu_present": true,
   "autoclose": false,
   "autocomplete": true,
   "bibliofile": "biblio.bib",
   "cite_by": "apalike",
   "current_citInitial": 1,
   "eqLabelWithNumbers": true,
   "eqNumInitial": 1,
   "hotkeys": {
    "equation": "Ctrl-E",
    "itemize": "Ctrl-I"
   },
   "labels_anchors": false,
   "latex_user_defs": false,
   "report_style_numbering": false,
   "user_envs_cfg": false
  }
 },
 "nbformat": 4,
 "nbformat_minor": 2
}
